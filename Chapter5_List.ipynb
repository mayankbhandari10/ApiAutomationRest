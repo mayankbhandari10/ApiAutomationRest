{
  "nbformat": 4,
  "nbformat_minor": 0,
  "metadata": {
    "colab": {
      "name": "Chapter5_List",
      "provenance": [],
      "authorship_tag": "ABX9TyPbvDKxe9JT3yxt+zhIPCsl",
      "include_colab_link": true
    },
    "kernelspec": {
      "name": "python3",
      "display_name": "Python 3"
    },
    "language_info": {
      "name": "python"
    }
  },
  "cells": [
    {
      "cell_type": "markdown",
      "metadata": {
        "id": "view-in-github",
        "colab_type": "text"
      },
      "source": [
        "<a href=\"https://colab.research.google.com/github/mayankbhandari10/ApiAutomationRest/blob/master/Chapter5_List.ipynb\" target=\"_parent\"><img src=\"https://colab.research.google.com/assets/colab-badge.svg\" alt=\"Open In Colab\"/></a>"
      ]
    },
    {
      "cell_type": "code",
      "metadata": {
        "colab": {
          "base_uri": "https://localhost:8080/"
        },
        "id": "IOy8i6_GkO6U",
        "outputId": "13421be4-3a02-4c45-d99d-8b121565e314"
      },
      "source": [
        "# Creating a guest_list\n",
        "guest_list=[\"Rishu\", \"Alok\",\"Abhay\",\"jatin\",\"abhishek\"]\n",
        "for guest in guest_list:\n",
        "  print(f\"Welcome to the dinner : {guest}\")\n"
      ],
      "execution_count": null,
      "outputs": [
        {
          "output_type": "stream",
          "name": "stdout",
          "text": [
            "Welcome to the dinner : Rishu\n",
            "Welcome to the dinner : Alok\n",
            "Welcome to the dinner : Abhay\n",
            "Welcome to the dinner : jatin\n",
            "Welcome to the dinner : abhishek\n"
          ]
        }
      ]
    },
    {
      "cell_type": "code",
      "metadata": {
        "colab": {
          "base_uri": "https://localhost:8080/"
        },
        "id": "DSqlyK4Clx0m",
        "outputId": "5a8f1fca-5e37-416b-b2c3-ee5f8785f939"
      },
      "source": [
        "#changing the guest list\n",
        "guest_list=[\"Rishu\", \"Alok\",\"Abhay\",\"jatin\",\"abhishek\"]\n",
        "print(f\"{guest_list[0]} is not available for the party \\n\")\n",
        "guest_list.remove('Rishu')\n",
        "\n",
        "\n",
        "print(\"********current guest name for the party********\\n\")\n",
        "print(f\"{guest_list}\\n\\n\")\n",
        "\n",
        "print(\"***** Adding a new member for the Party********\\n \")\n",
        "guest_list.append('Sachin')\n",
        "for guest in guest_list:\n",
        "  print(f\"the new list for the dinner party: {guest}\\n\")\n",
        "\n"
      ],
      "execution_count": null,
      "outputs": [
        {
          "output_type": "stream",
          "name": "stdout",
          "text": [
            "Rishu is not available for the party \n",
            "\n",
            "********current guest name for the party********\n",
            "\n",
            "['Alok', 'Abhay', 'jatin', 'abhishek']\n",
            "\n",
            "\n",
            "***** Adding a new member for the Party********\n",
            " \n",
            "the new list for the dinner party: Alok\n",
            "\n",
            "the new list for the dinner party: Abhay\n",
            "\n",
            "the new list for the dinner party: jatin\n",
            "\n",
            "the new list for the dinner party: abhishek\n",
            "\n",
            "the new list for the dinner party: Sachin\n",
            "\n"
          ]
        }
      ]
    },
    {
      "cell_type": "code",
      "metadata": {
        "colab": {
          "base_uri": "https://localhost:8080/"
        },
        "id": "5iC8t2DgowPD",
        "outputId": "68076c62-1830-489b-f7ac-8303fead1f2c"
      },
      "source": [
        "#Sort the list(It will sort the list permanentaly)\n",
        "guest_list=[\"Rishu\", \"Alok\",\"Abhay\",\"jatin\",\"abhishek\"]\n",
        "guest_list.sort()\n",
        "print(guest_list)\n",
        "\n"
      ],
      "execution_count": null,
      "outputs": [
        {
          "output_type": "stream",
          "name": "stdout",
          "text": [
            "['Abhay', 'Alok', 'Rishu', 'abhishek', 'jatin']\n"
          ]
        }
      ]
    },
    {
      "cell_type": "code",
      "metadata": {
        "colab": {
          "base_uri": "https://localhost:8080/"
        },
        "id": "8r4wQFtKp5F3",
        "outputId": "44269a57-a13d-4e36-8116-75705b4f6901"
      },
      "source": [
        "# sort the list temporarily using sorted function\n",
        "guest_list=[\"Rishu\", \"Alok\",\"Abhay\",\"jatin\",\"abhishek\"]\n",
        "\n",
        "print(\"Here's the original list:\\n\")\n",
        "print(guest_list)\n",
        "print(\"\\n\")\n",
        "print(\"Here the temp list using sorted\\n\")\n",
        "print(sorted(guest_list))\n",
        "print(\"\\n\")\n",
        "print(\"The original list\\n\")\n",
        "print(guest_list)\n"
      ],
      "execution_count": null,
      "outputs": [
        {
          "output_type": "stream",
          "name": "stdout",
          "text": [
            "Here's the original list:\n",
            "\n",
            "['Rishu', 'Alok', 'Abhay', 'jatin', 'abhishek']\n",
            "\n",
            "\n",
            "Here the temp list using sorted\n",
            "\n",
            "['Abhay', 'Alok', 'Rishu', 'abhishek', 'jatin']\n",
            "\n",
            "\n",
            "The original list\n",
            "\n",
            "['Rishu', 'Alok', 'Abhay', 'jatin', 'abhishek']\n"
          ]
        }
      ]
    },
    {
      "cell_type": "code",
      "metadata": {
        "colab": {
          "base_uri": "https://localhost:8080/"
        },
        "id": "cVBFOUnZrtwA",
        "outputId": "5b695855-09d4-41cc-de19-c9c7d6d3e469"
      },
      "source": [
        "#Making numerical list using using Range always print last-1\n",
        "for value_number in range(1,10):\n",
        "  print (f\"number : {value_number}\")"
      ],
      "execution_count": null,
      "outputs": [
        {
          "output_type": "stream",
          "name": "stdout",
          "text": [
            "number : 1\n",
            "number : 2\n",
            "number : 3\n",
            "number : 4\n",
            "number : 5\n",
            "number : 6\n",
            "number : 7\n",
            "number : 8\n",
            "number : 9\n"
          ]
        }
      ]
    },
    {
      "cell_type": "code",
      "metadata": {
        "colab": {
          "base_uri": "https://localhost:8080/"
        },
        "id": "D7QWzNu5vuMt",
        "outputId": "65877dd4-1c06-4ae9-b9ba-0c273a1170b8"
      },
      "source": [
        "#convert range number into a list\n",
        "numbers= list(range(1,6))\n",
        "print(numbers)"
      ],
      "execution_count": null,
      "outputs": [
        {
          "output_type": "stream",
          "name": "stdout",
          "text": [
            "[1, 2, 3, 4, 5]\n"
          ]
        }
      ]
    },
    {
      "cell_type": "code",
      "metadata": {
        "colab": {
          "base_uri": "https://localhost:8080/"
        },
        "id": "gNyHq8NowBH3",
        "outputId": "2b865ce9-5aac-4a88-c373-11eaa1e926d3"
      },
      "source": [
        "#Program to illustrates the skip functionality in Range need to give the 3 argument\n",
        "numbers=list(range(1,50,2))\n",
        "print(numbers)"
      ],
      "execution_count": null,
      "outputs": [
        {
          "output_type": "stream",
          "name": "stdout",
          "text": [
            "[1, 3, 5, 7, 9, 11, 13, 15, 17, 19, 21, 23, 25, 27, 29, 31, 33, 35, 37, 39, 41, 43, 45, 47, 49]\n"
          ]
        }
      ]
    },
    {
      "cell_type": "code",
      "metadata": {
        "colab": {
          "base_uri": "https://localhost:8080/"
        },
        "id": "8wImWN3mwYaQ",
        "outputId": "db47013c-75c7-4dda-d546-cdc3715fa30c"
      },
      "source": [
        "#square root of first 50 natural number using range and list\n",
        "number=[]\n",
        "for values in range(1,11):\n",
        "  square= values**2\n",
        "  number.append(square)\n",
        "print(number)  \n"
      ],
      "execution_count": null,
      "outputs": [
        {
          "output_type": "stream",
          "name": "stdout",
          "text": [
            "[1, 4, 9, 16, 25, 36, 49, 64, 81, 100]\n"
          ]
        }
      ]
    },
    {
      "cell_type": "code",
      "metadata": {
        "colab": {
          "base_uri": "https://localhost:8080/"
        },
        "id": "fMK-ocWUxbfj",
        "outputId": "56fb899d-05f7-419c-e509-f0024a99591e"
      },
      "source": [
        "#List Comprehension it is used generate the output in a single line of code, combine the for loop and ceration of element in one line\n",
        "#craete a list with proper name thn assigned the expression to it using for loop\n",
        "square=[value**2 for value in range(1,11)]\n",
        "print(square)"
      ],
      "execution_count": null,
      "outputs": [
        {
          "output_type": "stream",
          "name": "stdout",
          "text": [
            "[1, 4, 9, 16, 25, 36, 49, 64, 81, 100]\n"
          ]
        }
      ]
    },
    {
      "cell_type": "code",
      "metadata": {
        "colab": {
          "base_uri": "https://localhost:8080/"
        },
        "id": "Py32B31oy4oS",
        "outputId": "fb128886-5311-47d8-fa42-a3bab31c0dda"
      },
      "source": [
        "#Print odd number using range function\n",
        "odd_number=list(range(1,20,2))\n",
        "print(odd_number)"
      ],
      "execution_count": null,
      "outputs": [
        {
          "output_type": "stream",
          "name": "stdout",
          "text": [
            "[1, 3, 5, 7, 9, 11, 13, 15, 17, 19]\n"
          ]
        }
      ]
    },
    {
      "cell_type": "code",
      "metadata": {
        "colab": {
          "base_uri": "https://localhost:8080/"
        },
        "id": "CvQFJ6bv00eX",
        "outputId": "a7ff9e48-1235-4475-95ea-f2a0f5de8a46"
      },
      "source": [
        "#print the multiple of 3 and print a list of it\n",
        "\n",
        "three_multiple=[]\n",
        "for value in range(1,30):\n",
        "  multiple= 3*value\n",
        "  three_multiple.append(multiple)\n",
        "print(three_multiple)  \n"
      ],
      "execution_count": null,
      "outputs": [
        {
          "output_type": "stream",
          "name": "stdout",
          "text": [
            "[3, 6, 9, 12, 15, 18, 21, 24, 27, 30, 33, 36, 39, 42, 45, 48, 51, 54, 57, 60, 63, 66, 69, 72, 75, 78, 81, 84, 87]\n"
          ]
        }
      ]
    },
    {
      "cell_type": "code",
      "metadata": {
        "colab": {
          "base_uri": "https://localhost:8080/"
        },
        "id": "_xVcyAVj1ggP",
        "outputId": "8cacb1ef-357a-42a1-d8a4-cf6517612de1"
      },
      "source": [
        "#cube of first 20 natural number\n",
        "numbers_list=[]\n",
        "for value in range(1,20):\n",
        "  cube= value**3\n",
        "  numbers_list.append(cube)\n",
        "print(\"list of first 20 cube\\n\")\n",
        "print(numbers_list)\n",
        "for number in numbers_list:\n",
        "  print(f\"cube root is : {number}\")\n"
      ],
      "execution_count": null,
      "outputs": [
        {
          "output_type": "stream",
          "name": "stdout",
          "text": [
            "list of first 20 cube\n",
            "\n",
            "[1, 8, 27, 64, 125, 216, 343, 512, 729, 1000, 1331, 1728, 2197, 2744, 3375, 4096, 4913, 5832, 6859]\n",
            "cube root is : 1\n",
            "cube root is : 8\n",
            "cube root is : 27\n",
            "cube root is : 64\n",
            "cube root is : 125\n",
            "cube root is : 216\n",
            "cube root is : 343\n",
            "cube root is : 512\n",
            "cube root is : 729\n",
            "cube root is : 1000\n",
            "cube root is : 1331\n",
            "cube root is : 1728\n",
            "cube root is : 2197\n",
            "cube root is : 2744\n",
            "cube root is : 3375\n",
            "cube root is : 4096\n",
            "cube root is : 4913\n",
            "cube root is : 5832\n",
            "cube root is : 6859\n"
          ]
        }
      ]
    },
    {
      "cell_type": "code",
      "metadata": {
        "colab": {
          "base_uri": "https://localhost:8080/"
        },
        "id": "KDzBfzki25hl",
        "outputId": "4af4ef57-828d-401b-bbe8-ef3eb8859b49"
      },
      "source": [
        "#list Comprehension of cube root\n",
        "numbers_list=[value**3 for value in range(1,20)]\n",
        "print(numbers_list)"
      ],
      "execution_count": null,
      "outputs": [
        {
          "output_type": "stream",
          "name": "stdout",
          "text": [
            "[1, 8, 27, 64, 125, 216, 343, 512, 729, 1000, 1331, 1728, 2197, 2744, 3375, 4096, 4913, 5832, 6859]\n"
          ]
        }
      ]
    },
    {
      "cell_type": "code",
      "metadata": {
        "colab": {
          "base_uri": "https://localhost:8080/"
        },
        "id": "FmPp1DHt9Y0F",
        "outputId": "58b456d8-5c70-415b-8d1a-4b3b2c33cf32"
      },
      "source": [
        "#List slicing (working with the part of list)\n",
        "\n",
        "players=[\"abhay\",\"popo\",\"jatin\",\"rich\",\"Alok\"]\n",
        "for player in players:\n",
        "  print(player[:-1])"
      ],
      "execution_count": null,
      "outputs": [
        {
          "output_type": "stream",
          "name": "stdout",
          "text": [
            "abha\n",
            "pop\n",
            "jati\n",
            "ric\n",
            "Alo\n"
          ]
        }
      ]
    },
    {
      "cell_type": "code",
      "metadata": {
        "colab": {
          "base_uri": "https://localhost:8080/"
        },
        "id": "yqBme7M3N3Rp",
        "outputId": "d8861c6b-9020-4bde-dc3a-c4d31b3dfa37"
      },
      "source": [
        "#To check wheather a list is empty or not\n",
        "\n",
        "requested_toppings=[]\n",
        "if requested_toppings:\n",
        "  for topppings in requested_toppings:\n",
        "    print(f\"{topppings}\")\n",
        "  print(\"finished\")\n",
        "else:\n",
        "   print(\"Are you sure you want plain pizza\")   \n",
        "\n"
      ],
      "execution_count": null,
      "outputs": [
        {
          "output_type": "stream",
          "name": "stdout",
          "text": [
            "Are you sure you want plain pizza\n"
          ]
        }
      ]
    }
  ]
}